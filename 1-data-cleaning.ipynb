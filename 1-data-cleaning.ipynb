{
 "cells": [
  {
   "cell_type": "code",
   "execution_count": 1,
   "metadata": {},
   "outputs": [],
   "source": [
    "import matplotlib.pyplot as plt\n",
    "import statistics\n",
    "import re\n",
    "import numpy as np\n",
    "import pickle\n",
    "import pandas as pd"
   ]
  },
  {
   "cell_type": "markdown",
   "metadata": {},
   "source": [
    "# Data Loading"
   ]
  },
  {
   "cell_type": "code",
   "execution_count": 2,
   "metadata": {},
   "outputs": [],
   "source": [
    "input_path = \"./data/data.csv\"\n",
    "\n",
    "df = pd.read_csv(input_path, encoding='utf-8')"
   ]
  },
  {
   "cell_type": "code",
   "execution_count": 3,
   "metadata": {},
   "outputs": [
    {
     "data": {
      "text/plain": [
       "232736"
      ]
     },
     "execution_count": 3,
     "metadata": {},
     "output_type": "execute_result"
    }
   ],
   "source": [
    "len(df)"
   ]
  },
  {
   "cell_type": "code",
   "execution_count": 4,
   "metadata": {},
   "outputs": [
    {
     "data": {
      "text/html": [
       "<div>\n",
       "<style scoped>\n",
       "    .dataframe tbody tr th:only-of-type {\n",
       "        vertical-align: middle;\n",
       "    }\n",
       "\n",
       "    .dataframe tbody tr th {\n",
       "        vertical-align: top;\n",
       "    }\n",
       "\n",
       "    .dataframe thead th {\n",
       "        text-align: right;\n",
       "    }\n",
       "</style>\n",
       "<table border=\"1\" class=\"dataframe\">\n",
       "  <thead>\n",
       "    <tr style=\"text-align: right;\">\n",
       "      <th></th>\n",
       "      <th>english</th>\n",
       "      <th>french</th>\n",
       "    </tr>\n",
       "  </thead>\n",
       "  <tbody>\n",
       "    <tr>\n",
       "      <th>0</th>\n",
       "      <td>Go.</td>\n",
       "      <td>Va !</td>\n",
       "    </tr>\n",
       "    <tr>\n",
       "      <th>1</th>\n",
       "      <td>Go.</td>\n",
       "      <td>Marche.</td>\n",
       "    </tr>\n",
       "    <tr>\n",
       "      <th>2</th>\n",
       "      <td>Go.</td>\n",
       "      <td>En route !</td>\n",
       "    </tr>\n",
       "    <tr>\n",
       "      <th>3</th>\n",
       "      <td>Go.</td>\n",
       "      <td>Bouge !</td>\n",
       "    </tr>\n",
       "    <tr>\n",
       "      <th>4</th>\n",
       "      <td>Hi.</td>\n",
       "      <td>Salut !</td>\n",
       "    </tr>\n",
       "  </tbody>\n",
       "</table>\n",
       "</div>"
      ],
      "text/plain": [
       "  english      french\n",
       "0     Go.        Va !\n",
       "1     Go.     Marche.\n",
       "2     Go.  En route !\n",
       "3     Go.     Bouge !\n",
       "4     Hi.     Salut !"
      ]
     },
     "execution_count": 4,
     "metadata": {},
     "output_type": "execute_result"
    }
   ],
   "source": [
    "df.head()"
   ]
  },
  {
   "cell_type": "markdown",
   "metadata": {},
   "source": [
    "# Data Preprocessing"
   ]
  },
  {
   "cell_type": "code",
   "execution_count": 5,
   "metadata": {},
   "outputs": [],
   "source": [
    "input_characters = set()\n",
    "target_characters = set()\n",
    "\n",
    "for _, row in df.iterrows():\n",
    "    input_text = row['english'] \n",
    "    target_text = row['french']\n",
    "    \n",
    "    input_characters.update(input_text)\n",
    "    target_characters.update(target_text)"
   ]
  },
  {
   "cell_type": "markdown",
   "metadata": {},
   "source": [
    "## Data Exploration"
   ]
  },
  {
   "cell_type": "markdown",
   "metadata": {},
   "source": [
    "### Exploring Characters\n",
    "\n",
    "Since we will be doing a character level tokenization, we must be careful on what characters are present in the dataset."
   ]
  },
  {
   "cell_type": "code",
   "execution_count": 6,
   "metadata": {},
   "outputs": [
    {
     "name": "stdout",
     "output_type": "stream",
     "text": [
      "Unique English characters:\n",
      " [' ', '!', '\"', '$', '%', '&', \"'\", '+', ',', '-', '.', '/', '0', '1', '2', '3', '4', '5', '6', '7', '8', '9', ':', ';', '?', 'A', 'B', 'C', 'D', 'E', 'F', 'G', 'H', 'I', 'J', 'K', 'L', 'M', 'N', 'O', 'P', 'Q', 'R', 'S', 'T', 'U', 'V', 'W', 'X', 'Y', 'Z', 'a', 'b', 'c', 'd', 'e', 'f', 'g', 'h', 'i', 'j', 'k', 'l', 'm', 'n', 'o', 'p', 'q', 'r', 's', 't', 'u', 'v', 'w', 'x', 'y', 'z', '\\xa0', '\\xad', '°', 'é', 'ï', 'ú', 'ü', '–', '—', '‘', '’', '₂', '€']\n",
      "Unique French characters:\n",
      " [' ', '!', '\"', '$', '%', '&', \"'\", '(', ')', '+', ',', '-', '.', '/', '0', '1', '2', '3', '4', '5', '6', '7', '8', '9', ':', ';', '?', 'A', 'B', 'C', 'D', 'E', 'F', 'G', 'H', 'I', 'J', 'K', 'L', 'M', 'N', 'O', 'P', 'Q', 'R', 'S', 'T', 'U', 'V', 'W', 'X', 'Y', 'Z', 'a', 'b', 'c', 'd', 'e', 'f', 'g', 'h', 'i', 'j', 'k', 'l', 'm', 'n', 'o', 'p', 'q', 'r', 's', 't', 'u', 'v', 'w', 'x', 'y', 'z', '\\xa0', '«', '°', '»', 'À', 'Â', 'Ç', 'É', 'Ê', 'Ô', 'à', 'á', 'â', 'ç', 'è', 'é', 'ê', 'ë', 'î', 'ï', 'ô', 'ù', 'û', 'ü', 'ō', 'œ', '\\u2009', '\\u200b', '‘', '’', '\\u202f', '‽', '₂']\n"
     ]
    }
   ],
   "source": [
    "print(\"Unique English characters:\\n\", sorted(input_characters))\n",
    "print(\"Unique French characters:\\n\", sorted(target_characters))"
   ]
  },
  {
   "cell_type": "code",
   "execution_count": null,
   "metadata": {},
   "outputs": [
    {
     "name": "stdout",
     "output_type": "stream",
     "text": [
      "Number of rows with symbol '-': 41333\n"
     ]
    }
   ],
   "source": [
    "count = 0\n",
    "symbol = \"-\"\n",
    "\n",
    "rows_with_symbol = df[(df['english'].str.contains(symbol)) | (df['french'].str.contains(symbol))]\n",
    "\n",
    "for index, row in rows_with_symbol.iterrows():\n",
    "    count += 1\n",
    "\n",
    "print(f\"Number of rows with symbol '{symbol}':\", count)\n",
    "\n",
    "        "
   ]
  },
  {
   "cell_type": "markdown",
   "metadata": {},
   "source": [
    "## Text Normalization and Preprocessing\n",
    "\n",
    "- **Lowercasing**: All text (both English and French) will be **converted to lowercase** to simplify the task. This helps the model focus on the content without worrying about casing.\n",
    "- **Tokenization**: Character-level tokenization will be used. Each character is one-hot encoded, and sentences are padded to a consistent length.\n",
    "- **Start and End Tokens**: Special start (`\\t`) and end (`\\n`) tokens will be **added to the target (French) sentences** to help the model learn when to begin and stop generating translations.\n",
    "- **Padding**: Sentences will be padded up to the maximum allowed length, with any longer sentences being filtered out.\n",
    "\n",
    "## Special Characters Handling\n",
    "\n",
    "After analyzing the dataset, the following insights and actions were derived for handling special characters:\n",
    "\n",
    "- **&**: Appears only once (in \"R&B\"). It will be replaced with the word **\"and\"**.\n",
    "- **‘ ’**: Curly apostrophes will be **replaced with straight apostrophes** (`'`) for consistency.\n",
    "- **‽**: The rare occurrence of an interrobang (`‽`) will be **replaced with a question mark** (`?`).\n",
    "- **! \" ; - – —**: These symbols will be **removed**\n",
    "- **$ %**: Rows with these will be **dropped**\n",
    "- **' , . ?**: Common punctuation marks will be **kept as-is**, as they are important for sentence structure and meaning.\n",
    "- **+**: Appears in specific contexts (e.g., \"C++\", \"A+\") and the rows containing it will be **dropped**.\n",
    "- **( )**: Parentheses are used only once for explanation, so the rows containing them will be **dropped**.\n",
    "- **/**: Appears only in one language per row, so the rows containing it will be **dropped** to avoid inconsistencies.\n",
    "- **₂**: Appears in chemical formulas (e.g., \"H₂O\") and rows will be **dropped\"**.\n",
    "- **« »**: French quotation marks will be **removed**.\n",
    "- **°**: Represents temperature (e.g., \"30°C\"), but appears only three times in the dataset, so the rows containing it will be **dropped**.\n",
    "- **:**: Used in time (e.g., \"3:30\") and in French text structures (e.g., \"dis : …\"). It will be **removed**.\n",
    "- **€**: Appears only once as a currency symbol (e.g., \"€30\"), so the row containing it will be **dropped**.\n",
    "- All accented charecters will be normalized (eg. é turns to e) to optimize the tokens size.\n",
    "- All rows containing digits will be dropped."
   ]
  },
  {
   "cell_type": "markdown",
   "metadata": {},
   "source": [
    "### Handling data with digits"
   ]
  },
  {
   "cell_type": "code",
   "execution_count": 8,
   "metadata": {},
   "outputs": [],
   "source": [
    "def contains_digits(text):\n",
    "    return any(char.isdigit() for char in text)"
   ]
  },
  {
   "cell_type": "code",
   "execution_count": 9,
   "metadata": {},
   "outputs": [
    {
     "name": "stdout",
     "output_type": "stream",
     "text": [
      "only_english=335 only_french=225 both=809 total=1369\n"
     ]
    }
   ],
   "source": [
    "# Create a boolean mask for rows that contain digits\n",
    "mask = df['english'].str.contains(r'\\d') | df['french'].str.contains(r'\\d')\n",
    "\n",
    "filtered_df = df[mask]\n",
    "\n",
    "only_english = 0\n",
    "only_french = 0\n",
    "both = 0\n",
    "\n",
    "texts_with_digits = []\n",
    "\n",
    "# Iterate through the filtered DataFrame\n",
    "for _, row in filtered_df.iterrows():\n",
    "    english_contains = contains_digits(row['english']) \n",
    "    french_contains = contains_digits(row['french'])  \n",
    "    \n",
    "    if english_contains and not french_contains:\n",
    "        only_english += 1\n",
    "        texts_with_digits.append((row['english'], row['french']))\n",
    "    elif french_contains and not english_contains:\n",
    "        only_french += 1\n",
    "        texts_with_digits.append((row['english'], row['french']))\n",
    "    elif english_contains and french_contains:\n",
    "        both += 1\n",
    "        texts_with_digits.append((row['english'], row['french']))\n",
    "\n",
    "print(f\"{only_english=} {only_french=} {both=} total={len(texts_with_digits)}\")"
   ]
  },
  {
   "cell_type": "code",
   "execution_count": 10,
   "metadata": {},
   "outputs": [
    {
     "data": {
      "text/plain": [
       "(\"Here's $5.\", 'Voilà cinq dollars.')"
      ]
     },
     "execution_count": 10,
     "metadata": {},
     "output_type": "execute_result"
    }
   ],
   "source": [
    "texts_with_digits[1]"
   ]
  },
  {
   "cell_type": "code",
   "execution_count": 11,
   "metadata": {},
   "outputs": [
    {
     "data": {
      "text/plain": [
       "(\"I'm 99% sure.\", \"J'en suis sûr à 99%.\")"
      ]
     },
     "execution_count": 11,
     "metadata": {},
     "output_type": "execute_result"
    }
   ],
   "source": [
    "texts_with_digits[9]"
   ]
  },
  {
   "cell_type": "markdown",
   "metadata": {},
   "source": [
    "We notice some inconsistencies in the data. **335 sentences** in English contain numerical values that are represented as textual strings in the French translation.\n",
    "\n",
    "*Example:* **Here's $5** => **Voilà cinq dollars.**\n",
    "\n",
    "In this case, **$5** is translated to **cinq dollars**, which can confuse the model. Therefore, it is better to drop rows that contain digits in one language only, especially since they are underrepresented in the dataset: **335 examples** out of **230k** (≈ **0.1%**).\n",
    "\n",
    "Some other occurrences of numerical values can be seen in both languages.\n",
    "\n",
    "*Example:* **I'm 99% sure.** => **J'en suis sûr à 99%.**\n",
    "\n",
    "This is consistent and can be left in the training data, but it is also a rare occurrence, with only **809 examples** out of **230k** (≈ **0.3%**).\n",
    "\n",
    "Because the goal is to create a model that handles the translation of simple sentences, and numerical values are misrepresented in our data, we can simply discard them and drop rows with digits. This can also be beneficial as it reduces the number of tokens.\n"
   ]
  },
  {
   "cell_type": "code",
   "execution_count": null,
   "metadata": {},
   "outputs": [],
   "source": [
    "def normalize_whitespace(text):\n",
    "    pattern = r'[\\s\\xa0\\xad\\u200b]+'\n",
    "\n",
    "    text = re.sub(pattern, ' ', text)\n",
    "\n",
    "    return text.strip()\n",
    "\n",
    "def clean_special_characters(sentence, language):\n",
    "    # character replacements based on language\n",
    "    replacements = {\n",
    "        'common': {\n",
    "            \"&\": \"and\",\n",
    "            \"‘\": \"'\", \"’\": \"'\",\n",
    "            \"‽\": \"?\", \n",
    "            \"–\": \" \", \"—\": \"\", \n",
    "            \"-\": \" \", \"!\": \"\",\n",
    "            \"\\\"\": \"\", \":\": \"\", \";\": \"\",\n",
    "            \"«\": \"\", \"»\": \"\"\n",
    "        },\n",
    "        'english': {\n",
    "            \"ï\": \"i\", \"ú\": \"u\", \"ü\": \"u\", \"é\": \"e\"\n",
    "        },\n",
    "        'french': {\n",
    "            \"á\": \"a\", \"ü\": \"u\", \"ō\": \"o\", \"è\": \"e\", \"é\": \"e\",\n",
    "            \"ê\": \"e\", \"ë\": \"e\", \"î\": \"i\", \"ï\": \"i\", \"ô\": \"o\",\n",
    "            \"ù\": \"u\", \"û\": \"u\", \"œ\": \"oe\", \"ç\": \"c\", \"à\": \"a\",\n",
    "            \"â\": \"a\"\n",
    "        }\n",
    "    }\n",
    "    \n",
    "    for char, replacement in replacements['common'].items():\n",
    "        sentence = sentence.replace(char, replacement)\n",
    "    \n",
    "    if language in replacements:\n",
    "        for char, replacement in replacements[language].items():\n",
    "            sentence = sentence.replace(char, replacement)\n",
    "\n",
    "    return sentence\n",
    "\n",
    "def remove_inconsistent_symbols(input_text, target_text, symbols):\n",
    "    for symbol in symbols:\n",
    "        if symbol in input_text and symbol not in target_text:\n",
    "            input_text = input_text.replace(symbol, \"\")\n",
    "        elif symbol in target_text and symbol not in input_text:\n",
    "            target_text = target_text.replace(symbol, \"\")\n",
    "    \n",
    "    return input_text, target_text\n",
    "\n",
    "def normalize_sentence(sentence, language):\n",
    "    sentence = sentence.lower()\n",
    "\n",
    "    sentence = clean_special_characters(sentence, language)\n",
    "\n",
    "    sentence = normalize_whitespace(sentence)\n",
    "\n",
    "    if language == 'french':\n",
    "        sentence =  \"\\t\" + sentence + \"\\n\"\n",
    "    return sentence\n",
    "\n",
    "def filter_function(row):\n",
    "    symbols = set(\"₂°+/€()$%0123456789\")  \n",
    "    combined_text = row['english'] + row['french']\n",
    "    return not any(symbol in symbols for symbol in combined_text)"
   ]
  },
  {
   "cell_type": "code",
   "execution_count": 13,
   "metadata": {},
   "outputs": [],
   "source": [
    "new_df = df.copy()"
   ]
  },
  {
   "cell_type": "code",
   "execution_count": 14,
   "metadata": {},
   "outputs": [],
   "source": [
    "new_df['english'] = df['english'].apply(lambda x: normalize_sentence(x, 'english'))\n",
    "new_df['french'] = df['french'].apply(lambda x: normalize_sentence(x, 'french'))"
   ]
  },
  {
   "cell_type": "code",
   "execution_count": 15,
   "metadata": {},
   "outputs": [],
   "source": [
    "new_df = new_df[new_df.apply(filter_function, axis=1)]"
   ]
  },
  {
   "cell_type": "markdown",
   "metadata": {},
   "source": [
    "Rebuild characters set"
   ]
  },
  {
   "cell_type": "code",
   "execution_count": 17,
   "metadata": {},
   "outputs": [],
   "source": [
    "input_characters = set()\n",
    "target_characters = set()\n",
    "\n",
    "for input_text, target_text in zip(new_df[\"english\"], new_df[\"french\"]):\n",
    "    input_characters.update(input_text) \n",
    "    target_characters.update(target_text)"
   ]
  },
  {
   "cell_type": "code",
   "execution_count": 18,
   "metadata": {},
   "outputs": [
    {
     "name": "stdout",
     "output_type": "stream",
     "text": [
      "English:\n",
      " [' ', \"'\", ',', '.', '?', 'a', 'b', 'c', 'd', 'e', 'f', 'g', 'h', 'i', 'j', 'k', 'l', 'm', 'n', 'o', 'p', 'q', 'r', 's', 't', 'u', 'v', 'w', 'x', 'y', 'z']\n",
      "French:\n",
      " ['\\t', '\\n', ' ', \"'\", ',', '.', '?', 'a', 'b', 'c', 'd', 'e', 'f', 'g', 'h', 'i', 'j', 'k', 'l', 'm', 'n', 'o', 'p', 'q', 'r', 's', 't', 'u', 'v', 'w', 'x', 'y', 'z']\n"
     ]
    }
   ],
   "source": [
    "print(\"English:\\n\",sorted(input_characters))\n",
    "print(\"French:\\n\",sorted(target_characters))"
   ]
  },
  {
   "cell_type": "markdown",
   "metadata": {},
   "source": [
    "### Dropping duplicates"
   ]
  },
  {
   "cell_type": "code",
   "execution_count": 22,
   "metadata": {},
   "outputs": [
    {
     "name": "stdout",
     "output_type": "stream",
     "text": [
      "Size of the dataset with duplicates: 231362\n",
      "Size of the dataset without duplicates: 147538\n"
     ]
    }
   ],
   "source": [
    "print(\"Size of the dataset with duplicates:\", len(new_df))\n",
    "\n",
    "df_unique = new_df.drop_duplicates(subset=\"english\").drop_duplicates(subset=\"french\")\n",
    "\n",
    "print(\"Size of the dataset without duplicates:\", len(df_unique))"
   ]
  },
  {
   "cell_type": "code",
   "execution_count": 24,
   "metadata": {},
   "outputs": [],
   "source": [
    "new_df = df_unique"
   ]
  },
  {
   "cell_type": "markdown",
   "metadata": {},
   "source": [
    "### Exploring lengths"
   ]
  },
  {
   "cell_type": "code",
   "execution_count": 25,
   "metadata": {},
   "outputs": [
    {
     "data": {
      "image/png": "[encoded data removed]",
      "text/plain": [
       "<Figure size 640x480 with 1 Axes>"
      ]
     },
     "metadata": {},
     "output_type": "display_data"
    }
   ],
   "source": [
    "input_lengths = [len(s) for s in new_df[\"english\"]]\n",
    "target_lengths = [len(s) for s in new_df[\"french\"]]\n",
    "\n",
    "plt.hist(input_lengths, bins=range(min(input_lengths + target_lengths), max(input_lengths + target_lengths) + 2), \n",
    "         alpha=0.5, label='Input lengths texts', color='blue', edgecolor='black')\n",
    "plt.hist(target_lengths, bins=range(min(input_lengths + target_lengths), max(input_lengths + target_lengths) + 2), \n",
    "         alpha=0.5, label='Target lengths texts', color='green', edgecolor='black')\n",
    "\n",
    "plt.title('Histogram of Texts Lengths')\n",
    "plt.xlabel('Length')\n",
    "plt.ylabel('Frequency')\n",
    "plt.legend(loc='upper right')\n",
    "\n",
    "plt.show()"
   ]
  },
  {
   "cell_type": "code",
   "execution_count": 26,
   "metadata": {},
   "outputs": [],
   "source": [
    "def calculate_statistics(string_lengths):\n",
    "    min_length = np.min(string_lengths)\n",
    "    max_length = np.max(string_lengths)\n",
    "    mean_length = statistics.mean(string_lengths)\n",
    "    median_length = statistics.median(string_lengths)\n",
    "    percentile_95 = np.percentile(string_lengths, 95)\n",
    "    percentile_5 = np.percentile(string_lengths, 5)\n",
    "\n",
    "    stats = {\n",
    "        \"min\": min_length,\n",
    "        \"max\": max_length,\n",
    "        \"mean\": mean_length,\n",
    "        \"median\": median_length,\n",
    "        \"95th_percentile\": percentile_95,\n",
    "        \"5th_percentile\": percentile_5,\n",
    "    }\n",
    "\n",
    "    return stats"
   ]
  },
  {
   "cell_type": "code",
   "execution_count": 27,
   "metadata": {},
   "outputs": [
    {
     "name": "stdout",
     "output_type": "stream",
     "text": [
      "English:\n",
      "{'min': 3, 'max': 286, 'mean': 31.5118952405482, 'median': 29.0, '95th_percentile': 55.0, '5th_percentile': 16.0}\n",
      "French:\n",
      "{'min': 4, 'max': 351, 'mean': 38.88568368827014, 'median': 36.0, '95th_percentile': 67.0, '5th_percentile': 20.0}\n"
     ]
    }
   ],
   "source": [
    "print(\"English:\")\n",
    "print(calculate_statistics(input_lengths))\n",
    "print(\"French:\")\n",
    "print(calculate_statistics(target_lengths))"
   ]
  },
  {
   "cell_type": "code",
   "execution_count": 28,
   "metadata": {},
   "outputs": [],
   "source": [
    "def calculate_filtered_string_stats(string_list,lower_bound,upper_bound):\n",
    "    filtered_by_lower = sum(1 for s in string_list if len(s) < lower_bound)\n",
    "    \n",
    "    filtered_by_upper = sum(1 for s in string_list if len(s) > upper_bound)\n",
    "\n",
    "    total_filtered = filtered_by_lower + filtered_by_upper\n",
    "    \n",
    "    total_strings = len(string_list)\n",
    "    \n",
    "    stats = {\n",
    "        \"filtered_by_lower\": f\"{filtered_by_lower} {filtered_by_lower/total_strings:.2%}\",\n",
    "        \"filtered_by_upper\": f\"{filtered_by_upper} {filtered_by_upper/total_strings:.2%}\",\n",
    "        \"total_filtered\": f\"{total_filtered} {total_filtered/total_strings:.2%}\",\n",
    "        \"total_remaining\": f\"{(total_strings - total_filtered)} {(total_strings - total_filtered)/total_strings:.2%}\"\n",
    "    }\n",
    "    \n",
    "    return stats"
   ]
  },
  {
   "cell_type": "code",
   "execution_count": 40,
   "metadata": {},
   "outputs": [
    {
     "name": "stdout",
     "output_type": "stream",
     "text": [
      "English texts lengths:\n",
      "{'filtered_by_lower': '347 0.24%', 'filtered_by_upper': '2798 1.90%', 'total_filtered': '3145 2.13%', 'total_remaining': '144393 97.87%'}\n",
      "French texts lengths:\n",
      "{'filtered_by_lower': '85 0.06%', 'filtered_by_upper': '8207 5.56%', 'total_filtered': '8292 5.62%', 'total_remaining': '139246 94.38%'}\n"
     ]
    }
   ],
   "source": [
    "lower_bound = 10\n",
    "upper_bound = 65\n",
    "\n",
    "print(f\"English texts lengths:\")\n",
    "print(calculate_filtered_string_stats(new_df[\"english\"], lower_bound,upper_bound))\n",
    "print(f\"French texts lengths:\")\n",
    "print(calculate_filtered_string_stats(new_df[\"french\"], lower_bound,upper_bound))"
   ]
  },
  {
   "cell_type": "markdown",
   "metadata": {},
   "source": [
    "## Filtering Data Based On Sequence Length"
   ]
  },
  {
   "cell_type": "code",
   "execution_count": 41,
   "metadata": {},
   "outputs": [],
   "source": [
    "def filter_short_sentences(df, lower_threshold, upper_threshold):\n",
    "    \n",
    "    filtered_df = df[\n",
    "        (df[\"english\"].str.len() >= lower_threshold) &\n",
    "        (df[\"english\"].str.len() <= upper_threshold) &\n",
    "        (df[\"french\"].str.len() >= lower_threshold) &\n",
    "        (df[\"french\"].str.len() <= upper_threshold)\n",
    "    ]\n",
    "    return filtered_df"
   ]
  },
  {
   "cell_type": "code",
   "execution_count": 42,
   "metadata": {},
   "outputs": [],
   "source": [
    "new_df = filter_short_sentences(new_df, lower_bound, upper_bound)"
   ]
  },
  {
   "cell_type": "code",
   "execution_count": 52,
   "metadata": {},
   "outputs": [
    {
     "data": {
      "text/plain": [
       "english              stop being a baby.\n",
       "french     \\tarrete de faire le bebe.\\n\n",
       "Name: 29105, dtype: object"
      ]
     },
     "execution_count": 52,
     "metadata": {},
     "output_type": "execute_result"
    }
   ],
   "source": [
    "index = 15000\n",
    "\n",
    "new_df.iloc[index]"
   ]
  },
  {
   "cell_type": "code",
   "execution_count": 54,
   "metadata": {},
   "outputs": [
    {
     "data": {
      "text/plain": [
       "138803"
      ]
     },
     "execution_count": 54,
     "metadata": {},
     "output_type": "execute_result"
    }
   ],
   "source": [
    "len(new_df)"
   ]
  },
  {
   "cell_type": "markdown",
   "metadata": {},
   "source": [
    "### Shuffling and Sampling\n",
    "\n",
    "- A random sample of **50k examples** is selected for training."
   ]
  },
  {
   "cell_type": "code",
   "execution_count": 56,
   "metadata": {},
   "outputs": [],
   "source": [
    "num_sentences = 50000  \n",
    "\n",
    "selected_indices = np.random.choice(new_df.index, size=num_sentences, replace=False)\n",
    "\n",
    "sampled_df = new_df.loc[selected_indices].reset_index(drop=True)"
   ]
  },
  {
   "cell_type": "markdown",
   "metadata": {},
   "source": [
    "### Viewing our data"
   ]
  },
  {
   "cell_type": "code",
   "execution_count": 59,
   "metadata": {},
   "outputs": [
    {
     "data": {
      "text/plain": [
       "english                   i know how to drive a car.\n",
       "french     \\tje sais comment conduire une voiture.\\n\n",
       "Name: 15000, dtype: object"
      ]
     },
     "execution_count": 59,
     "metadata": {},
     "output_type": "execute_result"
    }
   ],
   "source": [
    "example = 999\n",
    "\n",
    "sampled_df.iloc[index]"
   ]
  },
  {
   "cell_type": "code",
   "execution_count": 60,
   "metadata": {},
   "outputs": [],
   "source": [
    "input_characters = sorted(list(input_characters))\n",
    "target_characters = sorted(list(target_characters))\n",
    "num_encoder_tokens = len(input_characters)\n",
    "num_decoder_tokens = len(target_characters)\n",
    "max_encoder_seq_length = max([len(txt) for txt in sampled_df[\"english\"]])\n",
    "max_decoder_seq_length = max([len(txt) for txt in sampled_df[\"french\"]])"
   ]
  },
  {
   "cell_type": "code",
   "execution_count": 61,
   "metadata": {},
   "outputs": [
    {
     "name": "stdout",
     "output_type": "stream",
     "text": [
      "Number of samples: 50000\n",
      "Number of unique input tokens: 31\n",
      "Number of unique output tokens: 33\n",
      "Max sequence length for inputs: 65\n",
      "Max sequence length for outputs: 65\n"
     ]
    }
   ],
   "source": [
    "print(\"Number of samples:\", len(sampled_df))\n",
    "print(\"Number of unique input tokens:\", num_encoder_tokens)\n",
    "print(\"Number of unique output tokens:\", num_decoder_tokens)\n",
    "print(\"Max sequence length for inputs:\", max_encoder_seq_length)\n",
    "print(\"Max sequence length for outputs:\", max_decoder_seq_length)"
   ]
  },
  {
   "cell_type": "markdown",
   "metadata": {},
   "source": [
    "## Creating tokens dictionary"
   ]
  },
  {
   "cell_type": "code",
   "execution_count": 62,
   "metadata": {},
   "outputs": [],
   "source": [
    "input_token_index = dict([(char, i) for i, char in enumerate(input_characters)])\n",
    "target_token_index = dict([(char, i) for i, char in enumerate(target_characters)])"
   ]
  },
  {
   "cell_type": "markdown",
   "metadata": {},
   "source": [
    "### Encoding the data"
   ]
  },
  {
   "cell_type": "code",
   "execution_count": 63,
   "metadata": {},
   "outputs": [],
   "source": [
    "encoder_input_data = np.zeros(\n",
    "    (len(sampled_df), max_encoder_seq_length, num_encoder_tokens),\n",
    "    dtype=\"float32\",\n",
    ")\n",
    "decoder_input_data = np.zeros(\n",
    "    (len(sampled_df), max_decoder_seq_length, num_decoder_tokens),\n",
    "    dtype=\"float32\",\n",
    ")\n",
    "decoder_target_data = np.zeros(\n",
    "    (len(sampled_df), max_decoder_seq_length, num_decoder_tokens),\n",
    "    dtype=\"float32\",\n",
    ")"
   ]
  },
  {
   "cell_type": "code",
   "execution_count": null,
   "metadata": {},
   "outputs": [],
   "source": [
    "for i in range(len(sampled_df)):\n",
    "    input_text, target_text = sampled_df[\"english\"][i], sampled_df[\"french\"][i]\n",
    "    for t, char in enumerate(input_text):\n",
    "        encoder_input_data[i, t, input_token_index[char]] = 1.0\n",
    "    encoder_input_data[i, t + 1 :, input_token_index[\" \"]] = 1.0\n",
    "    for t, char in enumerate(target_text):\n",
    "        # decoder_target_data contains one character ahead than decoder_input_data\n",
    "        # and will not include the start character.\n",
    "        decoder_input_data[i, t, target_token_index[char]] = 1.0\n",
    "        if t > 0:\n",
    "            decoder_target_data[i, t - 1, target_token_index[char]] = 1.0\n",
    "    decoder_input_data[i, t + 1 :, target_token_index[\" \"]] = 1.0\n",
    "    decoder_target_data[i, t:, target_token_index[\" \"]] = 1.0"
   ]
  },
  {
   "cell_type": "markdown",
   "metadata": {},
   "source": [
    "## Saving the data"
   ]
  },
  {
   "cell_type": "code",
   "execution_count": 65,
   "metadata": {},
   "outputs": [
    {
     "name": "stdout",
     "output_type": "stream",
     "text": [
      "Data saved to ./data/data.pkl\n"
     ]
    }
   ],
   "source": [
    "data_to_save = {\n",
    "    'encoder_input_data': encoder_input_data,\n",
    "    'decoder_input_data': decoder_input_data,\n",
    "    'decoder_target_data': decoder_target_data\n",
    "}\n",
    "\n",
    "pickle_file = './data/data.pkl'\n",
    "\n",
    "with open(pickle_file, 'wb') as file:\n",
    "    pickle.dump(data_to_save, file)\n",
    "\n",
    "print(f\"Data saved to {pickle_file}\")"
   ]
  },
  {
   "cell_type": "code",
   "execution_count": 66,
   "metadata": {},
   "outputs": [
    {
     "name": "stdout",
     "output_type": "stream",
     "text": [
      "Data saved to ./data/index.pkl\n"
     ]
    }
   ],
   "source": [
    "data_to_save = {\n",
    "    'target_token_index': target_token_index,\n",
    "    'input_token_index': input_token_index,\n",
    "}\n",
    "\n",
    "pickle_file = './data/index.pkl'\n",
    "\n",
    "with open(pickle_file, 'wb') as file:\n",
    "    pickle.dump(data_to_save, file)\n",
    "\n",
    "print(f\"Data saved to {pickle_file}\")"
   ]
  }
 ],
 "metadata": {
  "kernelspec": {
   "display_name": "Python 3",
   "language": "python",
   "name": "python3"
  },
  "language_info": {
   "codemirror_mode": {
    "name": "ipython",
    "version": 3
   },
   "file_extension": ".py",
   "mimetype": "text/x-python",
   "name": "python",
   "nbconvert_exporter": "python",
   "pygments_lexer": "ipython3",
   "version": "3.11.4"
  }
 },
 "nbformat": 4,
 "nbformat_minor": 2
}
